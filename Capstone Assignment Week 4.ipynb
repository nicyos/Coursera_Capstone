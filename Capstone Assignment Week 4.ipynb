{
 "cells": [
  {
   "cell_type": "markdown",
   "metadata": {},
   "source": [
    "# Introduction / Business problem\n",
    "\n",
    "- Singapore has a large proportion of dual income families and parents often rely on childcare services to look after their children on weekdays.\n",
    "- Generally there are shortage of childcare services. Parents typicall have to queue for months to get a slot\n",
    "- Due to extremely high price of cars, the general population typically rely on public transport (MRT and Bus)\n",
    "- Availability of childcare services and its proximity to public transport is an important factor to consider when deciding which neighborhoods to live in Singapore.\n",
    "- Other amenities such as grocery stores, restaurants, and gyms is also an important factor"
   ]
  },
  {
   "cell_type": "markdown",
   "metadata": {},
   "source": [
    " \n"
   ]
  },
  {
   "cell_type": "markdown",
   "metadata": {},
   "source": [
    "# Data\n",
    "\n",
    "### Childcare services\n",
    "\n",
    "Comprehensive childcare center data is hard to get from commercial sources like Foursquare or even Google. Luckily the Singapore government have this data publicly available at: www.data.gov.sg\n",
    "\n",
    "### Neighborhood\n",
    "\n",
    "Singapore has highly efficient public transportation system and also extremely high price of cars. As a result, the majority of population rely in public transport for their daily commute. MRT stations often serve as a hub for neighborhoods and many aspect of life and amenities are organized around this hub. When on think of \"neighborhood\" in Singapore, often the MRT station in that location come to mind.\n",
    "\n",
    "Data for MRT station is not available in Foursquare. It is available in Google, but the Singapore government also made the list and location of all MRT stations publicly available at: www.data.gov.sg. We use the government's data for simplicity (and free).\n",
    "\n",
    "### Other amenities\n",
    "\n",
    "Other amenities data can be found easily in Foursquare and Google. While Foursquare data is unfortunately not comprehensive in Singapore, we use this source for cost reason."
   ]
  }
 ],
 "metadata": {
  "kernelspec": {
   "display_name": "Python 3",
   "language": "python",
   "name": "python3"
  },
  "language_info": {
   "codemirror_mode": {
    "name": "ipython",
    "version": 3
   },
   "file_extension": ".py",
   "mimetype": "text/x-python",
   "name": "python",
   "nbconvert_exporter": "python",
   "pygments_lexer": "ipython3",
   "version": "3.7.4"
  }
 },
 "nbformat": 4,
 "nbformat_minor": 4
}
