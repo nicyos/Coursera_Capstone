{
 "cells": [
  {
   "cell_type": "markdown",
   "metadata": {},
   "source": [
    "# Introduction: \n",
    "\n",
    "### Problem\n",
    "\n",
    "- Singapore has a large proportion of dual income families and parents often rely on childcare services to look after their children on weekdays.\n",
    "- Generally there are shortage of childcare services. Parents typicall have to queue for months to get a slot\n",
    "- Due to extremely high price of cars, the general population typically rely on public transport (MRT and Bus)\n",
    "- Availability of childcare services and its proximity to public transport is an important factor to consider when deciding which neighborhoods to live in Singapore.\n",
    "- Other amenities such as grocery stores, restaurants, and gyms is also an important factor\n",
    "\n",
    "### Who would be interested\n",
    "\n",
    "- Working couples with young children will be interested to find out which location to live in\n",
    "- Childcare services providers looking for area to expand\n",
    "- Restaurants, grocery stores, other services providers looking for area to expand"
   ]
  },
  {
   "cell_type": "markdown",
   "metadata": {},
   "source": [
    "# Data\n",
    "\n",
    "### Childcare services\n",
    "Comprehensive childcare center data is hard to get from commercial sources like Foursquare or even Google. Luckily the Singapore government have this data publicly available at: https://data.gov.sg/dataset/listing-of-centres\n",
    "\n",
    "### Neighborhood\n",
    "\n",
    "Singapore has highly efficient public transportation system and also extremely high price of cars. As a result, the majority of population rely in public transport for their daily commute. MRT stations often serve as a hub for neighborhoods and many aspect of life and amenities are organized around this hub. When on think of \"neighborhood\" in Singapore, often the MRT station in that location come to mind.\n",
    "\n",
    "Data for MRT station is not available in Foursquare. It is available in Google, but has an associated cost.The Singapore government made the list and location of all MRT stations publicly available at: www.data.gov.sg. It is also available at Kaggle at: https://www.kaggle.com/yxlee245/singapore-train-station-coordinates. We use the Kaggle data for simplicity.\n",
    "\n",
    "### Other amenities\n",
    "Other amenities data can be found easily in Foursquare and Google. While Foursquare data is unfortunately not comprehensive in Singapore, we use this source for cost reason."
   ]
  },
  {
   "cell_type": "markdown",
   "metadata": {},
   "source": [
    "# Methodology\n",
    "\n",
    "- Start with full list of childcare centers and MRT stations in Singapore (two most crucial component)\n",
    "- Calculate the distance between MRT stations and childcare centers\n",
    "- Filter for MRT stations with childcare centers within 500m radius for convenience\n",
    "- Find the average and top quartile number of childcare centers nearby of each MRT station to maximize the chance of getting available slot (because of high demand)\n",
    "- Use Kmeans clustering to find the best neighborhood clusters\n"
   ]
  },
  {
   "cell_type": "markdown",
   "metadata": {},
   "source": [
    "# Conclusion"
   ]
  },
  {
   "cell_type": "markdown",
   "metadata": {},
   "source": [
    "In considering neighborhoods to live in Singapore, families with working parents and young children that need childcare service may want to consider two primary factors:\n",
    "- Number of available childcare centers nearby to maximize their chance to get a slot (childcare services are highly in demand)\n",
    "- Proximity to a MRT station for convenience (especially if they rely on public transport to commute)\n",
    "\n",
    "There are 23 MRT stations / neighborhoods with at least 9 childcare services (top quartile) within the radius of 500 meters. \n",
    "\n",
    "We narrowed down the list further by adding another dimension: availability of important amenities nearby.\n",
    "\n",
    "Our clustering exercise appear to suggest that locations labeled with cluster '0' meet most of our criteria and there are 9 locations in this category.\n",
    "\n",
    "By analyzing the list further we found that there are 4 locations that meet all of our criterias: Boon Lay, Punggol, Tampines, and Mountbatten\n",
    "\n",
    "Now we have successfully narrow down list of 157 locations to 4 best locations to choose from."
   ]
  },
  {
   "cell_type": "code",
   "execution_count": null,
   "metadata": {},
   "outputs": [],
   "source": []
  }
 ],
 "metadata": {
  "kernelspec": {
   "display_name": "Python 3",
   "language": "python",
   "name": "python3"
  },
  "language_info": {
   "codemirror_mode": {
    "name": "ipython",
    "version": 3
   },
   "file_extension": ".py",
   "mimetype": "text/x-python",
   "name": "python",
   "nbconvert_exporter": "python",
   "pygments_lexer": "ipython3",
   "version": "3.7.4"
  }
 },
 "nbformat": 4,
 "nbformat_minor": 4
}
