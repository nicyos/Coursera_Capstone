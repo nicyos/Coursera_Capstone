{
 "cells": [
  {
   "cell_type": "markdown",
   "metadata": {},
   "source": [
    "# Introduction: \n",
    "\n",
    "### Problem\n",
    "\n",
    "- Singapore has a large proportion of dual income families and parents often rely on childcare services to look after their children on weekdays.\n",
    "- Generally there are shortage of childcare services. Parents typically have to queue for months to get a slot\n",
    "- Due to extremely high price of cars, the general population typically rely on public transport (MRT and Bus)\n",
    "- Availability of childcare services and its proximity to public transport is an important factor to consider when deciding which neighborhoods to live in Singapore.\n",
    "- Other amenities such as grocery stores, restaurants, and gyms is also an important factor\n",
    "\n",
    "### Who would be interested\n",
    "\n",
    "- Working couples with young children will be interested to find out which location to live in\n",
    "- Childcare services providers looking for area to expand\n",
    "- Restaurants, grocery stores, other services providers looking for area to expand"
   ]
  },
  {
   "cell_type": "markdown",
   "metadata": {},
   "source": [
    "# Data:\n",
    "\n",
    "### Childcare services\n",
    "Comprehensive childcare center data is hard to get from commercial sources like Foursquare or even Google. Luckily the Singapore government have this data publicly available at: https://data.gov.sg/dataset/listing-of-centres\n",
    "\n",
    "### Neighborhood\n",
    "\n",
    "Singapore has highly efficient public transportation system and also extremely high price of cars. As a result, the majority of population rely in public transport for their daily commute. MRT stations often serve as a hub for neighborhoods and many aspect of life and amenities are organized around this hub. When on think of \"neighborhood\" in Singapore, often the MRT station in that location come to mind.\n",
    "\n",
    "Data for MRT station is not available in Foursquare. It is available in Google, but has an associated cost.The Singapore government made the list and location of all MRT stations publicly available at: www.data.gov.sg. It is also available at Kaggle at: https://www.kaggle.com/yxlee245/singapore-train-station-coordinates. We use the Kaggle data for simplicity.\n",
    "\n",
    "### Other amenities\n",
    "Other amenities data can be found easily in Foursquare and Google. While Foursquare data is unfortunately not comprehensive in Singapore, we use this source for cost reason."
   ]
  },
  {
   "cell_type": "markdown",
   "metadata": {},
   "source": [
    "# Methodology\n",
    "\n",
    "### Mapping the neighborhoods in Singapore\n",
    "As discussed, vast majority of Singaporean rely on public transport for their daily commute. MRT is one of the most convenient mode of transport and MRT stations often serve as a hub for the area. Thus, I use MRT stations as a proxy for neighborhood in Singapore.\n",
    "\n",
    "The MRT stations I downloaded from Kaggle (link in data section above) already have the list of all MRT stations and its coordinates. All I need to do is to load the data and map it using Folium.\n",
    "\n",
    "### Mapping childcare centers in Singapore\n",
    "Next I map the childcare service centers around Singapore to visualize where they are located. I start with childcare centers before other amenities because it is harder to find (than a supermarket for example) and is a crucial service for working parents with young children.\n",
    "\n",
    "The childcare center data I downloaded from the Singapore government website (link above) have the list of all centers in Singapore and its addresses. Unfortunately there is no coordinate data, and hence I used Google Maps API to geocode the postal codes to get the coordinate data.\n",
    "\n",
    "Now that I have both MRT stations and childcare centers location data, the next step is to calculate the distance between all MRT stations and all childcare centers. For this task, I utilized geopy package which have a 'distance' function to calculate distance between coordinates. I found this to be much more convenient compared to calculating the great circle distance from scratch using the haversine formula.\n",
    "\n",
    "### Filtering good neighborhood candidates to live in\n",
    "For my first filter, I look for neighborhoods with childcare centers within 500m radius from the MRT station. I found 500m to be the sweet spot in maximizing your choices and the convenient distance to walk to (~5-6 minutes of leisurely walk).\n",
    "\n",
    "For my second filter, I eliminate neighborhoods with less than 9 centers located within 500mn radius. Why 9? I found that the average neighborhoods have 6 centers on average within the 500m radius. As discussed, childcare centers are highly in demand in Singapore and spots is hard to get. Hence, to maximize my chance to get a spot I choose locations with number of centers that are in the top quartile range (in this case it is 9). From this second filter I have narrowed by choice from 157 neighborhoods to 23.\n",
    "\n",
    "For my last filter, I add a list of important amenities (Grocery stores, Gym / Fitness Centers, Parks) that are available within the 500m radius from the MRT stations. To get the list of amenities I use Foursquare Explorer API to get the list of top 100 locations nearby, and then I filter it by the mentioned categories. I then aggregate the amenities data with the childcare data.\n",
    "\n",
    "Lastly, I use Kmeans clustering to cluster the neighborhoods into 3 clusters. Why 3? Because after the second filter we are left with only list of 23 possible locations and we don't want to cluster it into too many categories to avoid overfitting.\n"
   ]
  },
  {
   "cell_type": "markdown",
   "metadata": {},
   "source": [
    "# Results and Conclusion"
   ]
  },
  {
   "cell_type": "markdown",
   "metadata": {},
   "source": [
    "In considering neighborhoods to live in Singapore, families with working parents and young children that need childcare service may want to consider two primary factors:\n",
    "- Number of available childcare centers nearby to maximize their chance to get a slot (childcare services are highly in demand)\n",
    "- Proximity to a MRT station for convenience (especially if they rely on public transport to commute)\n",
    "\n",
    "There are 23 MRT stations / neighborhoods with at least 9 childcare services (top quartile) within the radius of 500 meters. \n",
    "\n",
    "We narrowed down the list further by adding another dimension: availability of important amenities nearby.\n",
    "\n",
    "Our clustering exercise appear to suggest that locations labeled with cluster '0' meet most of our criteria and there are 9 locations in this category.\n",
    "\n",
    "By analyzing the list further we found that there are 4 locations that meet all of our criterias: Boon Lay, Punggol, Tampines, and Mountbatten\n",
    "\n",
    "Now we have successfully narrow down list of 157 locations to 4 best locations to choose from."
   ]
  },
  {
   "cell_type": "code",
   "execution_count": null,
   "metadata": {},
   "outputs": [],
   "source": []
  }
 ],
 "metadata": {
  "kernelspec": {
   "display_name": "Python 3",
   "language": "python",
   "name": "python3"
  },
  "language_info": {
   "codemirror_mode": {
    "name": "ipython",
    "version": 3
   },
   "file_extension": ".py",
   "mimetype": "text/x-python",
   "name": "python",
   "nbconvert_exporter": "python",
   "pygments_lexer": "ipython3",
   "version": "3.7.4"
  }
 },
 "nbformat": 4,
 "nbformat_minor": 4
}
